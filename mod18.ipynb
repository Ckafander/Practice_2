{
 "cells": [
  {
   "cell_type": "code",
   "execution_count": 1,
   "metadata": {},
   "outputs": [
    {
     "name": "stdout",
     "output_type": "stream",
     "text": [
      "Укажите количество чисел в списке: 5\n",
      "Ваш список:  [-9, -48, 47, 1, 11]\n",
      "Отсортированный список:  [-48, -9, 1, 11, 47]\n",
      "Количество нечетных чисел в списке:  4\n"
     ]
    }
   ],
   "source": [
    "#Напишите программу, принимающую от пользователя целое число\n",
    "#и формирующую произвольный список чисел от -100 до 100\n",
    "#с количеством элементов, равным введенному числу. После вывода \n",
    "#на экран полученного списка, программа сортирует его методом\n",
    "#пузырька и выводит на экран отсортированный список и сумму мин. и макс. чисел в списке.\n",
    "\n",
    "import random\n",
    "qty = int(input('Укажите количество чисел в списке: '))\n",
    "my_list = []\n",
    "\n",
    "while len(my_list) != qty:\n",
    "    digit = random.randint(-100, 100)\n",
    "    my_list.append(digit)\n",
    "    \n",
    "print(f'Ваш список: ', my_list)\n",
    "\n",
    "def bubbleSort(new_list):\n",
    "    for num in range(len(new_list)-1, 0, -1):\n",
    "        for i in range(num):\n",
    "            if new_list[i] > new_list[i + 1]:\n",
    "                result = new_list[i]\n",
    "                new_list[i] = new_list[i + 1]\n",
    "                new_list[i + 1] = result\n",
    "                \n",
    "bubbleSort(my_list)\n",
    "print(f'Отсортированный список: ', my_list)\n",
    "new_list \n",
    "\n",
    "print(f'Сумма min и max чисел в списке:: ', new_list)"
   ]
  },
  {
   "cell_type": "code",
   "execution_count": 2,
   "metadata": {},
   "outputs": [
    {
     "name": "stdout",
     "output_type": "stream",
     "text": [
      "\n",
      "Json file:\n",
      "Все , чтo нажил непoсильным трудoм , все пoгиблo : два магнитoфoна , шесть кинoкамер , 22 пoртсигара , куртка замшевая - десять штук . \n",
      "Самое длинное слово в строке: ['непoсильным', 'магнитoфoна']\n"
     ]
    }
   ],
   "source": [
    "#Напишите программу, которая заменяет в строке все числа \n",
    "#от 1 до 10 включительно на их буквенные значения, находит \n",
    "#самое длинное слово в строке и переносит результаты в файл json\n",
    "\n",
    "string = 'Все , чтo нажил непoсильным трудoм , все пoгиблo : 2 магнитoфoна , 6 кинoкамер , 22 пoртсигара , куртка замшевая - 10 штук .'\n",
    "numbers = {\"1\": \"один\", \"2\": \"два\", \"3\": \"три\", \"4\": \"четыре\", \"5\": \"пять\", \"6\": \"шесть\", \"7\": \"семь\", \"8\": \"восемь\", \"9\": \"девять\", \"10\": \"десять\"}\n",
    "\n",
    "result = ''\n",
    "for i in string.split():\n",
    "    result += (numbers.get(i, i) + ' ')\n",
    "#print(result)\n",
    "\n",
    "def longest_word(result):\n",
    "    words = result.split()\n",
    "    max_len = len(max(words, key=len))\n",
    "    return [word for word in words if len(word) == max_len]\n",
    "word = f'Самое длинное слово в строке: ' + str(longest_word(result))\n",
    "#print(word)\n",
    "\n",
    "import json\n",
    "\n",
    "with open(\"file\", \"w\") as f:\n",
    "    json.dump(result + '\\n' + str(word), f)\n",
    "\n",
    "print(\"\\nJson file:\")\n",
    "with open('file') as f:\n",
    "    data = json.load(f)\n",
    "print(data)"
   ]
  },
  {
   "cell_type": "code",
   "execution_count": 18,
   "metadata": {
    "scrolled": true
   },
   "outputs": [
    {
     "name": "stdout",
     "output_type": "stream",
     "text": [
      "['textemail1@gmail.com @bMZ0ma', 'textemail2@gmail.com }aT*Fyt', 'textemail3@gmail.com 1Tw3$Zq', 'textemail4@gmail.com b4$uT?x', 'textemail5@gmail.com ~bcanrN', 'textemail6@gmail.com ~35YMuf', 'textemail7@gmail.com Sy#i*o$', 'textemail8@gmail.com l64a{Kd', 'textemail9@gmail.com B8Vq?a3', 'textemail10@gmail.com nuRvANs']\n"
     ]
    }
   ],
   "source": [
    "#Дан файл с паролями. Провести проверки паролей на соотв. требованиям:\n",
    "#Больше 7ми знаков, спец. знакми мин 2, цифры мин 2. мин 2 буквы\n",
    "\n",
    "#!\"\\'#$%&()*+-,/:;<=>?@[\\\\]^_{|}~\n",
    "\n",
    "with open('password.txt') as f:\n",
    "    textfile = f.read()\n",
    "textfile = textfile.split(\"\\n\")\n",
    "\n",
    "\n",
    "print(textfile)"
   ]
  },
  {
   "cell_type": "code",
   "execution_count": null,
   "metadata": {},
   "outputs": [],
   "source": []
  }
 ],
 "metadata": {
  "kernelspec": {
   "display_name": "Python 3",
   "language": "python",
   "name": "python3"
  },
  "language_info": {
   "codemirror_mode": {
    "name": "ipython",
    "version": 3
   },
   "file_extension": ".py",
   "mimetype": "text/x-python",
   "name": "python",
   "nbconvert_exporter": "python",
   "pygments_lexer": "ipython3",
   "version": "3.7.6"
  }
 },
 "nbformat": 4,
 "nbformat_minor": 4
}
